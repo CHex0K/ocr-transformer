{
  "nbformat": 4,
  "nbformat_minor": 0,
  "metadata": {
    "colab": {
      "name": "test_ocr.ipynb",
      "provenance": []
    },
    "kernelspec": {
      "name": "python3",
      "display_name": "Python 3"
    },
    "language_info": {
      "name": "python"
    }
  },
  "cells": [
    {
      "cell_type": "code",
      "metadata": {
        "id": "IgMSaGTBXB8g"
      },
      "source": [
        "!pip install wandb -qqq\n",
        "!git clone https://github.com/constantin50/ocr-transformer.git\n",
        "!pip install Augmentor\n",
        "!pip install handwritting-generator"
      ],
      "execution_count": null,
      "outputs": []
    },
    {
      "cell_type": "code",
      "metadata": {
        "id": "qaCjYVP0XWqz"
      },
      "source": [
        "!gcloud auth login\n",
        "!gsutil cp gs://handwritten_rus/benchmark.zip /content/\n",
        "!unzip /content/benchmark.zip -d /content/benchmark1"
      ],
      "execution_count": null,
      "outputs": []
    },
    {
      "cell_type": "code",
      "metadata": {
        "id": "EB8KEwZo78iG"
      },
      "source": [
        "PATH_BENCHMARK_DIR = '' # path to dir of images of benchmark dataset\n",
        "PATH_BENCHMARK_LABELS = '' # path to labels of benchmark dataset\n",
        "PATH_MODEL = '' # path to .pt model"
      ],
      "execution_count": null,
      "outputs": []
    },
    {
      "cell_type": "code",
      "metadata": {
        "id": "nYhboZz8XeUs"
      },
      "source": [
        "import sys\n",
        "import os\n",
        "import wandb\n",
        "sys.path.append('/content/ocr-transformer')\n",
        "from config import *\n",
        "from dataset import *\n",
        "from model import *\n",
        "from train import *\n",
        "from utilities import *\n",
        "from pretrain import *"
      ],
      "execution_count": null,
      "outputs": []
    },
    {
      "cell_type": "code",
      "metadata": {
        "colab": {
          "base_uri": "https://localhost:8080/"
        },
        "id": "0mp4NZ9xYNP_",
        "outputId": "c9a64175-bb57-476e-a1b7-fdb0ce69c1e3"
      },
      "source": [
        "from google.colab import drive\n",
        "drive.mount('/content/drive')"
      ],
      "execution_count": null,
      "outputs": [
        {
          "output_type": "stream",
          "text": [
            "Mounted at /content/drive\n"
          ],
          "name": "stdout"
        }
      ]
    },
    {
      "cell_type": "code",
      "metadata": {
        "colab": {
          "base_uri": "https://localhost:8080/"
        },
        "id": "p-DU9fotXnzM",
        "outputId": "fd941c24-4ae3-479a-ae41-1208a306b824"
      },
      "source": [
        "chars = hp.cyrillic\n",
        "char2idx = {char: idx for idx, char in enumerate(chars)}\n",
        "idx2char = {idx: char for idx, char in enumerate(chars)}\n",
        "\n",
        "# CREATE A MODEL\n",
        "model = TransformerModel('resnet50', len(chars), hidden=512, enc_layers=2, dec_layers=2,   \n",
        "                         nhead=hp.nhead, dropout=hp.dropout, pretrained=True).to(device)\n",
        "path.chk = PATH_MODEL\n",
        "model ,epochs, best_eval_loss_cer, valid_loss_all, train_loss_all, eval_accuracy_all, eval_loss_cer_all = load_from_checkpoint(model,path.chk)"
      ],
      "execution_count": null,
      "outputs": [
        {
          "output_type": "stream",
          "text": [
            "backbone: resnet50\n",
            "layers: 2\n",
            "heads: 4\n",
            "dropout: 0.1\n",
            "38,841,758 trainable parameters\n",
            "weights have been loaded\n"
          ],
          "name": "stdout"
        }
      ]
    },
    {
      "cell_type": "code",
      "metadata": {
        "id": "L3HGvj8bYnof"
      },
      "source": [
        "word_accur, char_accur = test(model,PATH_BENCHMARK_DIR,PATH_BENCHMARK_LABELS,char2idx,idx2char,case=False)"
      ],
      "execution_count": null,
      "outputs": []
    },
    {
      "cell_type": "code",
      "metadata": {
        "colab": {
          "base_uri": "https://localhost:8080/"
        },
        "id": "zqcEvbQidqQf",
        "outputId": "8275da90-6eab-4f1a-9d11-7e96d65a0074"
      },
      "source": [
        "print(word_accur, char_accur)"
      ],
      "execution_count": null,
      "outputs": [
        {
          "output_type": "stream",
          "text": [
            "0.45378151260504207 0.8652653869324115\n"
          ],
          "name": "stdout"
        }
      ]
    }
  ]
}