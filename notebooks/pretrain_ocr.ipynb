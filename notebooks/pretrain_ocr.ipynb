{
  "nbformat": 4,
  "nbformat_minor": 0,
  "metadata": {
    "colab": {
      "name": "pretrain_ocr_trainsformer",
      "provenance": []
    },
    "kernelspec": {
      "name": "python3",
      "display_name": "Python 3"
    },
    "language_info": {
      "name": "python"
    },
    "accelerator": "GPU"
  },
  "cells": [
    {
      "cell_type": "code",
      "metadata": {
        "id": "WPm16u7S3_ka"
      },
      "source": [
        "!pip install Augmentor\n",
        "!pip install handwritting-generator\n",
        "!pip install wandb -qqq\n",
        "!git clone https://github.com/constantin50/ocr-transformer.git"
      ],
      "execution_count": null,
      "outputs": []
    },
    {
      "cell_type": "code",
      "metadata": {
        "id": "Ry2520oa4RiP"
      },
      "source": [
        "import sys\n",
        "import os\n",
        "import wandb\n",
        "sys.path.append('/content/ocr-transformer')\n",
        "from config import *\n",
        "from dataset import *\n",
        "from model import *\n",
        "from train import *\n",
        "from utilities import *\n",
        "from pretrain import *"
      ],
      "execution_count": null,
      "outputs": []
    },
    {
      "cell_type": "code",
      "metadata": {
        "id": "iduKMz5b4PkL"
      },
      "source": [
        "from google.colab import drive\n",
        "drive.mount('/content/drive')"
      ],
      "execution_count": null,
      "outputs": []
    },
    {
      "cell_type": "code",
      "metadata": {
        "id": "KrmjMnV24VTQ"
      },
      "source": [
        "!mkdir /content/pretrain/\n",
        "!mkdir /content/pretrain/temp_valid/\n",
        "!mkdir /content/pretrain/temp/"
      ],
      "execution_count": null,
      "outputs": []
    },
    {
      "cell_type": "code",
      "metadata": {
        "id": "Bte8UQlH4Wsh",
        "colab": {
          "base_uri": "https://localhost:8080/"
        },
        "outputId": "2e579aeb-1309-4193-a812-02a323772b27"
      },
      "source": [
        "model = TransformerModel('resnet50', len(hp.cyrillic), hidden=hp.hidden, enc_layers=2, dec_layers=2,   \n",
        "                         nhead=hp.nhead, dropout=0.2, pretrained=True).to(device)"
      ],
      "execution_count": null,
      "outputs": [
        {
          "output_type": "stream",
          "text": [
            "backbone: resnet50\n",
            "layers: 2\n",
            "heads: 4\n",
            "dropout: 0.2\n",
            "38,841,758 trainable parameters\n"
          ],
          "name": "stdout"
        }
      ]
    },
    {
      "cell_type": "code",
      "metadata": {
        "id": "oyMGtiTQRFcx"
      },
      "source": [
        "!unzip /content/wandb.zip -d /content/wandb"
      ],
      "execution_count": null,
      "outputs": []
    },
    {
      "cell_type": "code",
      "metadata": {
        "id": "w9GnhoU14YSf"
      },
      "source": [
        "path.log = '/content/drive/MyDrive/log/resnet50/4heads2layers/'\n",
        "wandb.init(project=\"OCR-transformer\", config={\n",
        "    \"learning_rate\":hp.lr,\n",
        "    \"nhead\":hp.nhead,\n",
        "    \"Affine trans\": 'True',\n",
        "    \"dropout\": hp.dropout,\n",
        "    \"batch_size\": hp.batch_size,\n",
        "    \"architecture\": \"RESNE50 + TRANSFORMER\",\n",
        "    \"dataset\": \"64x256 pretrain synth\",\n",
        "    \"classes\": \"92\"\n",
        "})\n",
        "config = wandb.config\n",
        "pretrain(model,hp.cyrillic,3,32,path.log+'resnet50_trans_last.pt')"
      ],
      "execution_count": null,
      "outputs": []
    }
  ]
}